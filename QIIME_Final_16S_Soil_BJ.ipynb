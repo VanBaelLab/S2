{
 "cells": [
  {
   "cell_type": "code",
   "execution_count": 1,
   "metadata": {
    "collapsed": false
   },
   "outputs": [
    {
     "name": "stdout",
     "output_type": "stream",
     "text": [
      "Num samples: 47\r\n",
      "Num observations: 2718\r\n",
      "Total count: 4729952\r\n",
      "Table density (fraction of non-zero values): 0.614\r\n",
      "\r\n",
      "Counts/sample summary:\r\n",
      " Min: 6126.0\r\n",
      " Max: 873545.0\r\n",
      " Median: 84242.000\r\n",
      " Mean: 100637.277\r\n",
      " Std. dev.: 125162.139\r\n",
      " Sample Metadata Categories: None provided\r\n",
      " Observation Metadata Categories: taxonomy\r\n",
      "\r\n",
      "Counts/sample detail:\r\n",
      " 145: 6126.0\r\n",
      " 143: 7418.0\r\n",
      " 141: 7788.0\r\n",
      " 146: 7971.0\r\n",
      " 142: 8497.0\r\n",
      " 76: 14933.0\r\n",
      " 144: 24412.0\r\n",
      " 61: 32699.0\r\n",
      " 93: 33256.0\r\n",
      " 99: 36006.0\r\n",
      " 47: 38755.0\r\n",
      " 68: 48740.0\r\n",
      " 86: 49211.0\r\n",
      " 88: 51786.0\r\n",
      " 45: 57220.0\r\n",
      " 79: 59588.0\r\n",
      " 64: 67406.0\r\n",
      " 50: 67800.0\r\n",
      " 32: 70160.0\r\n",
      " 65: 77368.0\r\n",
      " 78: 81378.0\r\n",
      " 40: 81402.0\r\n",
      " 83: 81877.0\r\n",
      " 59: 84242.0\r\n",
      " 70: 85543.0\r\n",
      " 49: 85611.0\r\n",
      " 43: 88610.0\r\n",
      " 91: 88839.0\r\n",
      " 74: 92947.0\r\n",
      " 84: 95637.0\r\n",
      " 44: 96834.0\r\n",
      " 60: 102382.0\r\n",
      " 36: 104848.0\r\n",
      " 54: 109756.0\r\n",
      " 95: 114248.0\r\n",
      " 42: 115172.0\r\n",
      " 77: 118217.0\r\n",
      " 63: 118922.0\r\n",
      " 33: 119641.0\r\n",
      " 41: 134023.0\r\n",
      " 89: 150348.0\r\n",
      " 90: 151279.0\r\n",
      " 87: 152209.0\r\n",
      " 73: 189472.0\r\n",
      " 56: 222046.0\r\n",
      " 57: 223784.0\r\n",
      " 97: 873545.0\r\n"
     ]
    }
   ],
   "source": [
    "!biom summarize-table -i OpenPick/Final_OTU_tables/16S/Description_Site/16S_final_OTU_table__Description_Soil_Site_BJ__.biom"
   ]
  },
  {
   "cell_type": "code",
   "execution_count": 5,
   "metadata": {
    "collapsed": false
   },
   "outputs": [],
   "source": [
    "!filter_samples_from_otu_table.py -i OpenPick/Final_OTU_tables/16S/Description_Site/16S_final_OTU_table__Description_Soil_Site_BJ__.biom -o OpenPick/Final_OTU_tables/16S/Description_Site/16S_final_OTU_table__Description_Soil_Site_BJ__BB.biom -m OpenPick/Final_OTU_tables/16S/Description_Site/S2_Final_Map_All_Samples__Description_Soil_Site_BJ__BB.txt --output_mapping_fp OpenPick/Final_OTU_tables/16S/Description_Site/S2_Final_Map_Description_Soil_Site_BJ__BB.txt --sample_id_fp OpenPick/samples_to_keep_5000_BJ_BB.txt  "
   ]
  },
  {
   "cell_type": "code",
   "execution_count": 6,
   "metadata": {
    "collapsed": false
   },
   "outputs": [
    {
     "name": "stdout",
     "output_type": "stream",
     "text": [
      "Num samples: 41\r\n",
      "Num observations: 2718\r\n",
      "Total count: 4667740\r\n",
      "Table density (fraction of non-zero values): 0.644\r\n",
      "\r\n",
      "Counts/sample summary:\r\n",
      " Min: 14933.0\r\n",
      " Max: 873545.0\r\n",
      " Median: 88610.000\r\n",
      " Mean: 113847.317\r\n",
      " Std. dev.: 128783.832\r\n",
      " Sample Metadata Categories: None provided\r\n",
      " Observation Metadata Categories: taxonomy\r\n",
      "\r\n",
      "Counts/sample detail:\r\n",
      " 76: 14933.0\r\n",
      " 61: 32699.0\r\n",
      " 93: 33256.0\r\n",
      " 99: 36006.0\r\n",
      " 47: 38755.0\r\n",
      " 68: 48740.0\r\n",
      " 86: 49211.0\r\n",
      " 88: 51786.0\r\n",
      " 45: 57220.0\r\n",
      " 79: 59588.0\r\n",
      " 64: 67406.0\r\n",
      " 50: 67800.0\r\n",
      " 32: 70160.0\r\n",
      " 65: 77368.0\r\n",
      " 78: 81378.0\r\n",
      " 40: 81402.0\r\n",
      " 83: 81877.0\r\n",
      " 59: 84242.0\r\n",
      " 70: 85543.0\r\n",
      " 49: 85611.0\r\n",
      " 43: 88610.0\r\n",
      " 91: 88839.0\r\n",
      " 74: 92947.0\r\n",
      " 84: 95637.0\r\n",
      " 44: 96834.0\r\n",
      " 60: 102382.0\r\n",
      " 36: 104848.0\r\n",
      " 54: 109756.0\r\n",
      " 95: 114248.0\r\n",
      " 42: 115172.0\r\n",
      " 77: 118217.0\r\n",
      " 63: 118922.0\r\n",
      " 33: 119641.0\r\n",
      " 41: 134023.0\r\n",
      " 89: 150348.0\r\n",
      " 90: 151279.0\r\n",
      " 87: 152209.0\r\n",
      " 73: 189472.0\r\n",
      " 56: 222046.0\r\n",
      " 57: 223784.0\r\n",
      " 97: 873545.0\r\n"
     ]
    }
   ],
   "source": [
    "!biom summarize-table -i OpenPick/Final_OTU_tables/16S/Description_Site/16S_final_OTU_table__Description_Soil_Site_BJ__BB.biom"
   ]
  },
  {
   "cell_type": "code",
   "execution_count": 13,
   "metadata": {
    "collapsed": false
   },
   "outputs": [],
   "source": [
    "!biom add-metadata -i OpenPick/Final_OTU_tables/16S/Description_Site/16S_final_OTU_table__Description_Soil_Site_BJ__BB.biom -o OpenPick/16S_Final_OTUtable_BJcats_BB.biom --sample-metadata-fp OpenPick/S2_Final_Map_Soil_BJcats__BB.txt"
   ]
  },
  {
   "cell_type": "code",
   "execution_count": 14,
   "metadata": {
    "collapsed": false
   },
   "outputs": [
    {
     "name": "stdout",
     "output_type": "stream",
     "text": [
      "Num samples: 41\r\n",
      "Num observations: 2718\r\n",
      "Total count: 4667740\r\n",
      "Table density (fraction of non-zero values): 0.644\r\n",
      "\r\n",
      "Counts/sample summary:\r\n",
      " Min: 14933.0\r\n",
      " Max: 873545.0\r\n",
      " Median: 88610.000\r\n",
      " Mean: 113847.317\r\n",
      " Std. dev.: 128783.832\r\n",
      " Sample Metadata Categories: AGN; NOXJul; BGC; Genotype; Zone; Plot; BarcodeSequence; AGC; PO43Jul; BGN; noLeaves; BGTotal; Position; matureN; Month; Shear; soilC; diam; Description; Season; PO43; BG1020; HeightUnder30; over30N; lengthInflor; TotalBiomass; FieldSample; BG010; RtSt; Geno; LinkerPrimerSequence; NH3Jul; NH3; seedweight; Ero; Order; NOXApr; PO43Apr; NH3Apr; AGBiomass; HeightOver30; NOX; matureHeight; lengthLeaf; soilN; under30N\r\n",
      " Observation Metadata Categories: taxonomy\r\n",
      "\r\n",
      "Counts/sample detail:\r\n",
      " 76: 14933.0\r\n",
      " 61: 32699.0\r\n",
      " 93: 33256.0\r\n",
      " 99: 36006.0\r\n",
      " 47: 38755.0\r\n",
      " 68: 48740.0\r\n",
      " 86: 49211.0\r\n",
      " 88: 51786.0\r\n",
      " 45: 57220.0\r\n",
      " 79: 59588.0\r\n",
      " 64: 67406.0\r\n",
      " 50: 67800.0\r\n",
      " 32: 70160.0\r\n",
      " 65: 77368.0\r\n",
      " 78: 81378.0\r\n",
      " 40: 81402.0\r\n",
      " 83: 81877.0\r\n",
      " 59: 84242.0\r\n",
      " 70: 85543.0\r\n",
      " 49: 85611.0\r\n",
      " 43: 88610.0\r\n",
      " 91: 88839.0\r\n",
      " 74: 92947.0\r\n",
      " 84: 95637.0\r\n",
      " 44: 96834.0\r\n",
      " 60: 102382.0\r\n",
      " 36: 104848.0\r\n",
      " 54: 109756.0\r\n",
      " 95: 114248.0\r\n",
      " 42: 115172.0\r\n",
      " 77: 118217.0\r\n",
      " 63: 118922.0\r\n",
      " 33: 119641.0\r\n",
      " 41: 134023.0\r\n",
      " 89: 150348.0\r\n",
      " 90: 151279.0\r\n",
      " 87: 152209.0\r\n",
      " 73: 189472.0\r\n",
      " 56: 222046.0\r\n",
      " 57: 223784.0\r\n",
      " 97: 873545.0\r\n"
     ]
    }
   ],
   "source": [
    "!biom summarize-table -i OpenPick/16S_Final_OTUtable_BJcats_BB.biom"
   ]
  },
  {
   "cell_type": "code",
   "execution_count": 9,
   "metadata": {
    "collapsed": true
   },
   "outputs": [],
   "source": [
    "!summarize_taxa_through_plots.py -i OpenPick/16S_Final_OTUtable_BJcats_BB.biom -o OpenPick/taxa_summaries_BB -m OpenPick/S2_Final_Map_Soil_BJcats__BB.txt"
   ]
  },
  {
   "cell_type": "code",
   "execution_count": 17,
   "metadata": {
    "collapsed": false
   },
   "outputs": [
    {
     "name": "stdout",
     "output_type": "stream",
     "text": [
      "Errors and/or warnings detected in mapping file.  Please check the log and html file for details.\r\n"
     ]
    }
   ],
   "source": [
    "!validate_mapping_file.py -m OpenPick/S2_Final_Map_Soil_BJcats__BB.txt -b -p -o OpenPick/mapValidation/ "
   ]
  },
  {
   "cell_type": "code",
   "execution_count": 18,
   "metadata": {
    "collapsed": true
   },
   "outputs": [],
   "source": [
    "!alpha_rarefaction.py -i OpenPick/16S_Final_OTUtable_BJcats_BB.biom -o OpenPick/arare_BB -t OpenPick/16S_rep_set_tree.tre -m OpenPick/S2_Final_Map_Soil_BJcats__BB.txt -e 14932"
   ]
  },
  {
   "cell_type": "code",
   "execution_count": 19,
   "metadata": {
    "collapsed": false
   },
   "outputs": [
    {
     "name": "stdout",
     "output_type": "stream",
     "text": [
      "/usr/local/lib/python2.7/dist-packages/skbio/stats/ordination/_principal_coordinate_analysis.py:107: RuntimeWarning: The result contains negative eigenvalues. Please compare their magnitude with the magnitude of some of the largest positive eigenvalues. If the negative ones are smaller, it's probably safe to ignore them, but if they are large in magnitude, the results won't be useful. See the Notes section for more details. The smallest eigenvalue is -0.00386706698908 and the largest is 0.620522910786.\r\n",
      "  RuntimeWarning\r\n"
     ]
    }
   ],
   "source": [
    "!beta_diversity_through_plots.py -i OpenPick/16S_Final_OTUtable_BJcats_BB.biom -o OpenPick/bdivBJ_BB -t OpenPick/16S_rep_set_tree.tre -m OpenPick/S2_Final_Map_Soil_BJcats__BB.txt -e 14932\n"
   ]
  },
  {
   "cell_type": "code",
   "execution_count": 22,
   "metadata": {
    "collapsed": false
   },
   "outputs": [],
   "source": [
    "!compare_categories.py --method adonis -i OpenPick/bdivBJ_BB/unweighted_unifrac_dm.txt -m OpenPick/S2_Final_Map_Soil_BJcats__BB.txt -c Season -o OpenPick/compare_Season/adonis_out -n 999"
   ]
  },
  {
   "cell_type": "code",
   "execution_count": 23,
   "metadata": {
    "collapsed": true
   },
   "outputs": [],
   "source": [
    "!compare_categories.py --method anosim -i OpenPick/bdivBJ_BB/unweighted_unifrac_dm.txt -m OpenPick/S2_Final_Map_Soil_BJcats__BB.txt -c Season -o OpenPick/compare_Season/anosim_out -n 999"
   ]
  },
  {
   "cell_type": "code",
   "execution_count": 25,
   "metadata": {
    "collapsed": false
   },
   "outputs": [],
   "source": [
    "!compare_categories.py --method permanova -i OpenPick/bdivBJ_BB/unweighted_unifrac_dm.txt -m OpenPick/S2_Final_Map_Soil_BJcats__BB.txt -c Season -o OpenPick/compare_Season/permanova_out -n 999"
   ]
  },
  {
   "cell_type": "code",
   "execution_count": 26,
   "metadata": {
    "collapsed": true
   },
   "outputs": [],
   "source": [
    "!split_otu_table.py -i OpenPick/16S_Final_OTUtable_BJcats_BB.biom -m OpenPick/S2_Final_Map_Soil_BJcats__BB.txt -f Season -o OpenPick/ "
   ]
  },
  {
   "cell_type": "code",
   "execution_count": 27,
   "metadata": {
    "collapsed": false
   },
   "outputs": [
    {
     "name": "stdout",
     "output_type": "stream",
     "text": [
      "Num samples: 21\r\n",
      "Num observations: 2718\r\n",
      "Total count: 1744718\r\n",
      "Table density (fraction of non-zero values): 0.689\r\n",
      "\r\n",
      "Counts/sample summary:\r\n",
      " Min: 14933.0\r\n",
      " Max: 189472.0\r\n",
      " Median: 81877.000\r\n",
      " Mean: 83081.810\r\n",
      " Std. dev.: 37083.994\r\n",
      " Sample Metadata Categories: AGN; NOXJul; BGC; Genotype; Zone; Plot; BarcodeSequence; AGC; PO43Jul; BGN; noLeaves; BGTotal; Position; matureN; Month; Shear; soilC; diam; Description; Season; PO43; BG1020; HeightUnder30; over30N; lengthInflor; TotalBiomass; FieldSample; BG010; RtSt; Geno; LinkerPrimerSequence; NH3Jul; NH3; seedweight; Ero; Order; NOXApr; PO43Apr; NH3Apr; AGBiomass; HeightOver30; NOX; matureHeight; lengthLeaf; soilN; under30N\r\n",
      " Observation Metadata Categories: taxonomy\r\n",
      "\r\n",
      "Counts/sample detail:\r\n",
      " 76: 14933.0\r\n",
      " 99: 36006.0\r\n",
      " 47: 38755.0\r\n",
      " 68: 48740.0\r\n",
      " 86: 49211.0\r\n",
      " 79: 59588.0\r\n",
      " 50: 67800.0\r\n",
      " 32: 70160.0\r\n",
      " 78: 81378.0\r\n",
      " 40: 81402.0\r\n",
      " 83: 81877.0\r\n",
      " 70: 85543.0\r\n",
      " 43: 88610.0\r\n",
      " 74: 92947.0\r\n",
      " 84: 95637.0\r\n",
      " 44: 96834.0\r\n",
      " 60: 102382.0\r\n",
      " 95: 114248.0\r\n",
      " 42: 115172.0\r\n",
      " 41: 134023.0\r\n",
      " 73: 189472.0\r\n"
     ]
    }
   ],
   "source": [
    "!biom summarize-table -i OpenPick/16S_Final_OTUtable_BJcats_BB__Season_WINTER__.biom"
   ]
  },
  {
   "cell_type": "code",
   "execution_count": 28,
   "metadata": {
    "collapsed": false
   },
   "outputs": [
    {
     "name": "stdout",
     "output_type": "stream",
     "text": [
      "Num samples: 20\r\n",
      "Num observations: 2718\r\n",
      "Total count: 2923022\r\n",
      "Table density (fraction of non-zero values): 0.597\r\n",
      "\r\n",
      "Counts/sample summary:\r\n",
      " Min: 32699.0\r\n",
      " Max: 873545.0\r\n",
      " Median: 107302.000\r\n",
      " Mean: 146151.100\r\n",
      " Std. dev.: 174695.319\r\n",
      " Sample Metadata Categories: AGN; NOXJul; BGC; Genotype; Zone; Plot; BarcodeSequence; AGC; PO43Jul; BGN; noLeaves; BGTotal; Position; matureN; Month; Shear; soilC; diam; Description; Season; PO43; BG1020; HeightUnder30; over30N; lengthInflor; TotalBiomass; FieldSample; BG010; RtSt; Geno; LinkerPrimerSequence; NH3Jul; NH3; seedweight; Ero; Order; NOXApr; PO43Apr; NH3Apr; AGBiomass; HeightOver30; NOX; matureHeight; lengthLeaf; soilN; under30N\r\n",
      " Observation Metadata Categories: taxonomy\r\n",
      "\r\n",
      "Counts/sample detail:\r\n",
      " 61: 32699.0\r\n",
      " 93: 33256.0\r\n",
      " 88: 51786.0\r\n",
      " 45: 57220.0\r\n",
      " 64: 67406.0\r\n",
      " 65: 77368.0\r\n",
      " 59: 84242.0\r\n",
      " 49: 85611.0\r\n",
      " 91: 88839.0\r\n",
      " 36: 104848.0\r\n",
      " 54: 109756.0\r\n",
      " 77: 118217.0\r\n",
      " 63: 118922.0\r\n",
      " 33: 119641.0\r\n",
      " 89: 150348.0\r\n",
      " 90: 151279.0\r\n",
      " 87: 152209.0\r\n",
      " 56: 222046.0\r\n",
      " 57: 223784.0\r\n",
      " 97: 873545.0\r\n"
     ]
    }
   ],
   "source": [
    "!biom summarize-table -i OpenPick/16S_Final_OTUtable_BJcats_BB__Season_SUMMER__.biom"
   ]
  },
  {
   "cell_type": "code",
   "execution_count": 29,
   "metadata": {
    "collapsed": true
   },
   "outputs": [],
   "source": [
    "!alpha_rarefaction.py -i OpenPick/16S_Final_OTUtable_BJcats_BB__Season_WINTER__.biom -o OpenPick/WINTER/arare/ -t OpenPick/16S_rep_set_tree.tre -m OpenPick/S2_Final_Map_Soil_BJcats__BB__Season_WINTER__.txt -e 14932"
   ]
  },
  {
   "cell_type": "code",
   "execution_count": 30,
   "metadata": {
    "collapsed": true
   },
   "outputs": [],
   "source": [
    "!beta_diversity_through_plots.py -i OpenPick/16S_Final_OTUtable_BJcats_BB__Season_WINTER__.biom -o OpenPick/WINTER/bdiv/ -t OpenPick/16S_rep_set_tree.tre -m OpenPick/S2_Final_Map_Soil_BJcats__BB__Season_WINTER__.txt -e 14932"
   ]
  },
  {
   "cell_type": "code",
   "execution_count": 33,
   "metadata": {
    "collapsed": true
   },
   "outputs": [],
   "source": [
    "!compare_categories.py --method adonis -i OpenPick/WINTER/bdiv/unweighted_unifrac_dm.txt -m OpenPick/S2_Final_Map_Soil_BJcats__BB__Season_WINTER__.txt -c Genotype -o OpenPick/WINTER/compare_Geno/ -n 999"
   ]
  },
  {
   "cell_type": "code",
   "execution_count": 34,
   "metadata": {
    "collapsed": true
   },
   "outputs": [],
   "source": [
    "!compare_categories.py --method adonis -i OpenPick/WINTER/bdiv/unweighted_unifrac_dm.txt -m OpenPick/S2_Final_Map_Soil_BJcats__BB__Season_WINTER__.txt -c Position -o OpenPick/WINTER/compare_Position/ -n 999"
   ]
  },
  {
   "cell_type": "code",
   "execution_count": 35,
   "metadata": {
    "collapsed": true
   },
   "outputs": [],
   "source": [
    "!alpha_rarefaction.py -i OpenPick/16S_Final_OTUtable_BJcats_BB__Season_SUMMER__.biom -o OpenPick/SUMMER/arare/ -t OpenPick/16S_rep_set_tree.tre -m OpenPick/S2_Final_Map_Soil_BJcats__BB__Season_SUMMER__.txt -e 32698"
   ]
  },
  {
   "cell_type": "code",
   "execution_count": 36,
   "metadata": {
    "collapsed": false
   },
   "outputs": [
    {
     "name": "stdout",
     "output_type": "stream",
     "text": [
      "/usr/local/lib/python2.7/dist-packages/skbio/stats/ordination/_principal_coordinate_analysis.py:107: RuntimeWarning: The result contains negative eigenvalues. Please compare their magnitude with the magnitude of some of the largest positive eigenvalues. If the negative ones are smaller, it's probably safe to ignore them, but if they are large in magnitude, the results won't be useful. See the Notes section for more details. The smallest eigenvalue is -0.00133849852427 and the largest is 0.470632067471.\r\n",
      "  RuntimeWarning\r\n"
     ]
    }
   ],
   "source": [
    "!beta_diversity_through_plots.py -i OpenPick/16S_Final_OTUtable_BJcats_BB__Season_SUMMER__.biom -o OpenPick/SUMMER/bdiv/ -t OpenPick/16S_rep_set_tree.tre -m OpenPick/S2_Final_Map_Soil_BJcats__BB__Season_SUMMER__.txt -e 32698"
   ]
  },
  {
   "cell_type": "code",
   "execution_count": 37,
   "metadata": {
    "collapsed": true
   },
   "outputs": [],
   "source": [
    "!compare_categories.py --method adonis -i OpenPick/SUMMER/bdiv/unweighted_unifrac_dm.txt -m OpenPick/S2_Final_Map_Soil_BJcats__BB__Season_SUMMER__.txt -c Genotype -o OpenPick/SUMMER/compare_Geno/ -n 999"
   ]
  },
  {
   "cell_type": "code",
   "execution_count": 38,
   "metadata": {
    "collapsed": true
   },
   "outputs": [],
   "source": [
    "!compare_categories.py --method adonis -i OpenPick/SUMMER/bdiv/unweighted_unifrac_dm.txt -m OpenPick/S2_Final_Map_Soil_BJcats__BB__Season_SUMMER__.txt -c Position -o OpenPick/SUMMER/compare_Position/ -n 999"
   ]
  },
  {
   "cell_type": "code",
   "execution_count": 39,
   "metadata": {
    "collapsed": true
   },
   "outputs": [],
   "source": [
    "!compare_categories.py --method morans_i -i OpenPick/WINTER/bdiv/unweighted_unifrac_dm.txt -m OpenPick/S2_Final_Map_Soil_BJcats__BB__Season_WINTER__.txt -c Position -o OpenPick/WINTER/compare_spatialAuto/ -n 999"
   ]
  },
  {
   "cell_type": "code",
   "execution_count": 40,
   "metadata": {
    "collapsed": true
   },
   "outputs": [],
   "source": [
    "!compare_categories.py --method morans_i -i OpenPick/SUMMER/bdiv/unweighted_unifrac_dm.txt -m OpenPick/S2_Final_Map_Soil_BJcats__BB__Season_SUMMER__.txt -c Position -o OpenPick/SUMMER/compare_spatialAuto/ -n 999"
   ]
  },
  {
   "cell_type": "code",
   "execution_count": 46,
   "metadata": {
    "collapsed": false
   },
   "outputs": [],
   "source": [
    "!alpha_rarefaction.py -i OpenPick/16S_Final_OTUtable_BJcats_BB.biom -o OpenPick/arare_BB -f -t OpenPick/16S_rep_set_tree.tre -m OpenPick/S2_Final_Map_Soil_BJcats__BB.txt -e 14932 -p OpenPick/DiversityParameters.txt --retain_intermediate_files"
   ]
  },
  {
   "cell_type": "code",
   "execution_count": 47,
   "metadata": {
    "collapsed": true
   },
   "outputs": [],
   "source": [
    "!alpha_rarefaction.py -i OpenPick/16S_Final_OTUtable_BJcats_BB__Season_WINTER__.biom -o OpenPick/WINTER/arare/ -f -t OpenPick/16S_rep_set_tree.tre -m OpenPick/S2_Final_Map_Soil_BJcats__BB__Season_WINTER__.txt -e 14932 -p OpenPick/DiversityParameters.txt --retain_intermediate_files"
   ]
  },
  {
   "cell_type": "code",
   "execution_count": 43,
   "metadata": {
    "collapsed": true
   },
   "outputs": [],
   "source": [
    "!alpha_rarefaction.py -i OpenPick/16S_Final_OTUtable_BJcats_BB__Season_SUMMER__.biom -o OpenPick/SUMMER/arare/ -f -t OpenPick/16S_rep_set_tree.tre -m OpenPick/S2_Final_Map_Soil_BJcats__BB__Season_SUMMER__.txt -e 32698 -p OpenPick/DiversityParameters.txt --retain_intermediate_files"
   ]
  },
  {
   "cell_type": "code",
   "execution_count": 51,
   "metadata": {
    "collapsed": false,
    "scrolled": true
   },
   "outputs": [],
   "source": [
    "!compare_alpha_diversity.py -i OpenPick/arare_BB/alpha_div_collated/shannon.txt -o OpenPick/compareSeason/Shannon -m OpenPick/S2_Final_Map_Soil_BJcats__BB.txt -c Season"
   ]
  },
  {
   "cell_type": "code",
   "execution_count": 52,
   "metadata": {
    "collapsed": true
   },
   "outputs": [],
   "source": [
    "!compare_alpha_diversity.py -i OpenPick/arare_BB/alpha_div_collated/simpson_e.txt -o OpenPick/compareSeason/simpson_e -m OpenPick/S2_Final_Map_Soil_BJcats__BB.txt -c Season"
   ]
  },
  {
   "cell_type": "code",
   "execution_count": 53,
   "metadata": {
    "collapsed": true
   },
   "outputs": [],
   "source": [
    "!compare_alpha_diversity.py -i OpenPick/arare_BB/alpha_div_collated/PD_whole_tree.txt -o OpenPick/compareSeason/PD_whole_tree -m OpenPick/S2_Final_Map_Soil_BJcats__BB.txt -c Season"
   ]
  },
  {
   "cell_type": "code",
   "execution_count": 54,
   "metadata": {
    "collapsed": true
   },
   "outputs": [],
   "source": [
    "!compare_alpha_diversity.py -i OpenPick/arare_BB/alpha_div_collated/chao1.txt -o OpenPick/compareSeason/chao1 -m OpenPick/S2_Final_Map_Soil_BJcats__BB.txt -c Season"
   ]
  },
  {
   "cell_type": "code",
   "execution_count": 58,
   "metadata": {
    "collapsed": true
   },
   "outputs": [],
   "source": [
    "!compare_alpha_diversity.py -i OpenPick/WINTER/arare/alpha_div_collated/shannon.txt -o OpenPick/WINTER/compareGeno/Shannon -m OpenPick/S2_Final_Map_Soil_BJcats__BB__Season_WINTER__.txt -c Genotype"
   ]
  },
  {
   "cell_type": "code",
   "execution_count": 59,
   "metadata": {
    "collapsed": true
   },
   "outputs": [],
   "source": [
    "!compare_alpha_diversity.py -i OpenPick/WINTER/arare/alpha_div_collated/simpson_e.txt -o OpenPick/WINTER/compareGeno/simpson_e -m OpenPick/S2_Final_Map_Soil_BJcats__BB__Season_WINTER__.txt -c Genotype"
   ]
  },
  {
   "cell_type": "code",
   "execution_count": 60,
   "metadata": {
    "collapsed": true
   },
   "outputs": [],
   "source": [
    "!compare_alpha_diversity.py -i OpenPick/WINTER/arare/alpha_div_collated/PD_whole_tree.txt -o OpenPick/WINTER/compareGeno/PD_whole_tree -m OpenPick/S2_Final_Map_Soil_BJcats__BB__Season_WINTER__.txt -c Genotype"
   ]
  },
  {
   "cell_type": "code",
   "execution_count": 61,
   "metadata": {
    "collapsed": true
   },
   "outputs": [],
   "source": [
    "!compare_alpha_diversity.py -i OpenPick/WINTER/arare/alpha_div_collated/chao1.txt -o OpenPick/WINTER/compareGeno/chao1 -m OpenPick/S2_Final_Map_Soil_BJcats__BB__Season_WINTER__.txt -c Genotype"
   ]
  },
  {
   "cell_type": "code",
   "execution_count": 62,
   "metadata": {
    "collapsed": true
   },
   "outputs": [],
   "source": [
    "!compare_alpha_diversity.py -i OpenPick/SUMMER/arare/alpha_div_collated/shannon.txt -o OpenPick/SUMMER/compareGeno/Shannon -m OpenPick/S2_Final_Map_Soil_BJcats__BB__Season_SUMMER__.txt -c Genotype"
   ]
  },
  {
   "cell_type": "code",
   "execution_count": 63,
   "metadata": {
    "collapsed": true
   },
   "outputs": [],
   "source": [
    "!compare_alpha_diversity.py -i OpenPick/SUMMER/arare/alpha_div_collated/simpson_e.txt -o OpenPick/SUMMER/compareGeno/simpson_e -m OpenPick/S2_Final_Map_Soil_BJcats__BB__Season_SUMMER__.txt -c Genotype"
   ]
  },
  {
   "cell_type": "code",
   "execution_count": 64,
   "metadata": {
    "collapsed": true
   },
   "outputs": [],
   "source": [
    "!compare_alpha_diversity.py -i OpenPick/SUMMER/arare/alpha_div_collated/PD_whole_tree.txt -o OpenPick/SUMMER/compareGeno/PD_whole_tree -m OpenPick/S2_Final_Map_Soil_BJcats__BB__Season_SUMMER__.txt -c Genotype"
   ]
  },
  {
   "cell_type": "code",
   "execution_count": 65,
   "metadata": {
    "collapsed": true
   },
   "outputs": [],
   "source": [
    "!compare_alpha_diversity.py -i OpenPick/SUMMER/arare/alpha_div_collated/chao1.txt -o OpenPick/SUMMER/compareGeno/chao1 -m OpenPick/S2_Final_Map_Soil_BJcats__BB__Season_SUMMER__.txt -c Genotype"
   ]
  },
  {
   "cell_type": "code",
   "execution_count": 66,
   "metadata": {
    "collapsed": true
   },
   "outputs": [],
   "source": [
    "!make_otu_network.py -m OpenPick/S2_Final_Map_Soil_BJcats__BB.txt -i OpenPick/16S_Final_OTUtable_BJcats_BB.biom -o otuNetwork_BB"
   ]
  },
  {
   "cell_type": "code",
   "execution_count": 67,
   "metadata": {
    "collapsed": true
   },
   "outputs": [],
   "source": [
    "!make_otu_network.py -m OpenPick/S2_Final_Map_Soil_BJcats__BB__Season_WINTER__.txt -i OpenPick/16S_Final_OTUtable_BJcats_BB__Season_WINTER__.biom -o OpenPick/WINTER/otuNetwork"
   ]
  },
  {
   "cell_type": "code",
   "execution_count": 68,
   "metadata": {
    "collapsed": true
   },
   "outputs": [],
   "source": [
    "!make_otu_network.py -m OpenPick/S2_Final_Map_Soil_BJcats__BB__Season_SUMMER__.txt -i OpenPick/16S_Final_OTUtable_BJcats_BB__Season_SUMMER__.biom -o OpenPick/SUMMER/otuNetwork"
   ]
  },
  {
   "cell_type": "code",
   "execution_count": 69,
   "metadata": {
    "collapsed": true
   },
   "outputs": [],
   "source": [
    "!biom convert -i OpenPick/16S_Final_OTUtable_BJcats_BB.biom -o OpenPick/Classic_16S_Final_OTUtable_BJcats_BB_wTaxonomy.txt --to-tsv --header-key taxonomy"
   ]
  },
  {
   "cell_type": "code",
   "execution_count": 70,
   "metadata": {
    "collapsed": true
   },
   "outputs": [],
   "source": [
    "!biom convert -i OpenPick/16S_Final_OTUtable_BJcats_BB__Season_WINTER__.biom -o OpenPick/Classic_16S_Final_OTUtable_BJcats_BB_wTaxonomy_WINTER.txt --to-tsv --header-key taxonomy"
   ]
  },
  {
   "cell_type": "code",
   "execution_count": null,
   "metadata": {
    "collapsed": false
   },
   "outputs": [],
   "source": [
    "!biom convert -i OpenPick/16S_Final_OTUtable_BJcats_BB__Season_SUMMER__.biom -o OpenPick/Classic_16S_Final_OTUtable_BJcats_BB_wTaxonomy_SUMMER.txt --to-tsv --header-key taxonomy"
   ]
  },
  {
   "cell_type": "code",
   "execution_count": null,
   "metadata": {
    "collapsed": true
   },
   "outputs": [],
   "source": []
  }
 ],
 "metadata": {
  "kernelspec": {
   "display_name": "Python 2",
   "language": "python",
   "name": "python2"
  },
  "language_info": {
   "codemirror_mode": {
    "name": "ipython",
    "version": 2
   },
   "file_extension": ".py",
   "mimetype": "text/x-python",
   "name": "python",
   "nbconvert_exporter": "python",
   "pygments_lexer": "ipython2",
   "version": "2.7.3"
  }
 },
 "nbformat": 4,
 "nbformat_minor": 0
}
